{
  "nbformat": 4,
  "nbformat_minor": 0,
  "metadata": {
    "colab": {
      "provenance": [],
      "authorship_tag": "ABX9TyPjvbSHDBPGMKu9x1gNKVdo",
      "include_colab_link": true
    },
    "kernelspec": {
      "name": "python3",
      "display_name": "Python 3"
    },
    "language_info": {
      "name": "python"
    }
  },
  "cells": [
    {
      "cell_type": "markdown",
      "metadata": {
        "id": "view-in-github",
        "colab_type": "text"
      },
      "source": [
        "<a href=\"https://colab.research.google.com/github/zaki43325010/Tugas-AlPro-1/blob/main/Untitled0.ipynb\" target=\"_parent\"><img src=\"https://colab.research.google.com/assets/colab-badge.svg\" alt=\"Open In Colab\"/></a>"
      ]
    },
    {
      "cell_type": "code",
      "source": [
        "p = int(input(\"masukkan panjang: \"))\n",
        "l = int(input(\"masukkan lebar: \"))\n",
        "luas=p*l\n",
        "print(\"Luas persegi panjang=\", luas)"
      ],
      "metadata": {
        "colab": {
          "base_uri": "https://localhost:8080/"
        },
        "id": "63JDcLaZ2qnf",
        "outputId": "b7d94794-c581-45ee-e7c8-61404ec5a432"
      },
      "execution_count": 4,
      "outputs": [
        {
          "output_type": "stream",
          "name": "stdout",
          "text": [
            "masukkan panjang: 6\n",
            "masukkan lebar: 4\n",
            "Luas persegi panjang= 24\n"
          ]
        }
      ]
    },
    {
      "cell_type": "code",
      "source": [
        "import math\n",
        "\n",
        "a = float(input(\"masukkan sisi a: \"))\n",
        "b = float(input(\"masukkan sisi b: \"))\n",
        "c = float(input(\"masukkan sisi c: \"))\n",
        "\n",
        "s = (a+b+c)/2\n",
        "luas= math.sqrt(s*(s-a)*(s-b)*(s-c))\n",
        "print(\"Luas segetiga= \", luas)"
      ],
      "metadata": {
        "colab": {
          "base_uri": "https://localhost:8080/"
        },
        "id": "qDZBZ8IE3qIH",
        "outputId": "7157458b-485d-4db5-e35c-bfc4b3875587"
      },
      "execution_count": 7,
      "outputs": [
        {
          "output_type": "stream",
          "name": "stdout",
          "text": [
            "masukkan sisi a: 2\n",
            "masukkan sisi b: 2\n",
            "masukkan sisi c: 3\n",
            "Luas segetiga=  1.984313483298443\n"
          ]
        }
      ]
    },
    {
      "cell_type": "code",
      "source": [
        "c= float(input(\"masukkan suhu (°C): \"))\n",
        "f= (c*9/5)+32\n",
        "print(\"hasil konversi= \", f, \"°F\")"
      ],
      "metadata": {
        "colab": {
          "base_uri": "https://localhost:8080/"
        },
        "id": "XUCsxmLy-pCH",
        "outputId": "3c5e7b43-b7c5-4f61-c2a6-48dfe515c3bb"
      },
      "execution_count": 8,
      "outputs": [
        {
          "output_type": "stream",
          "name": "stdout",
          "text": [
            "masukkan suhu (°C): 26\n",
            "hasil konversi=  78.8 °F\n"
          ]
        }
      ]
    },
    {
      "cell_type": "code",
      "source": [
        "tahun_lahir=int(input(\"masukkan tahun lahir: \"))\n",
        "tahun_sekarang= 2025\n",
        "umur= tahun_sekarang-tahun_lahir\n",
        "print(\"umur anda=\", umur, \"tahun\")"
      ],
      "metadata": {
        "colab": {
          "base_uri": "https://localhost:8080/"
        },
        "id": "MbF1c3IE-iP2",
        "outputId": "956cbd23-29e9-474f-b5ac-5d8a4e515c98"
      },
      "execution_count": 9,
      "outputs": [
        {
          "output_type": "stream",
          "name": "stdout",
          "text": [
            "masukkan tahun lahir: 2006\n",
            "umur anda= 19 tahun\n"
          ]
        }
      ]
    },
    {
      "cell_type": "code",
      "source": [
        "import math\n",
        "r= float(input(\"masukkan jari-jari lingkaran: \"))\n",
        "luas= math.pi*r*r\n",
        "print(\"luas lingkaran= \", luas)"
      ],
      "metadata": {
        "colab": {
          "base_uri": "https://localhost:8080/"
        },
        "id": "0Y_llP4cAnWG",
        "outputId": "b244da66-c765-4756-d212-5493b54d21a4"
      },
      "execution_count": 10,
      "outputs": [
        {
          "output_type": "stream",
          "name": "stdout",
          "text": [
            "masukkan jari-jari lingkaran: 4\n",
            "luas lingkaran=  50.26548245743669\n"
          ]
        }
      ]
    },
    {
      "cell_type": "code",
      "source": [
        "a= int(input(\"masukkan bilangan pertama: \"))\n",
        "b= int(input(\"masukkan bilangan kedua: \"))\n",
        "c= int(input(\"masukkan bilangan ketiga: \"))\n",
        "jumlah= a+b+c\n",
        "print(\"jumlah= \", jumlah)"
      ],
      "metadata": {
        "colab": {
          "base_uri": "https://localhost:8080/"
        },
        "id": "1O3EWNO1BTWc",
        "outputId": "ab502fa2-d169-445e-90a8-a0e9abe06ca5"
      },
      "execution_count": 11,
      "outputs": [
        {
          "output_type": "stream",
          "name": "stdout",
          "text": [
            "masukkan bilangan pertama: 2\n",
            "masukkan bilangan kedua: 3\n",
            "masukkan bilangan ketiga: 7\n",
            "jumlah=  12\n"
          ]
        }
      ]
    },
    {
      "cell_type": "code",
      "source": [],
      "metadata": {
        "id": "1-9yUCiTB8gf"
      },
      "execution_count": null,
      "outputs": []
    }
  ]
}